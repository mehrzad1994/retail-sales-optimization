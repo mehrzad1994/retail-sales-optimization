{
 "cells": [
  {
   "cell_type": "code",
   "execution_count": 1,
   "id": "ab5a91fd",
   "metadata": {},
   "outputs": [],
   "source": [
    "# Exploratory Data Analysis"
   ]
  },
  {
   "cell_type": "code",
   "execution_count": 2,
   "id": "b20e5723",
   "metadata": {},
   "outputs": [
    {
     "name": "stderr",
     "output_type": "stream",
     "text": [
      "C:\\Users\\12266\\Anaconda3\\lib\\site-packages\\pandas\\core\\computation\\expressions.py:21: UserWarning: Pandas requires version '2.8.4' or newer of 'numexpr' (version '2.7.3' currently installed).\n",
      "  from pandas.core.computation.check import NUMEXPR_INSTALLED\n",
      "C:\\Users\\12266\\Anaconda3\\lib\\site-packages\\pandas\\core\\arrays\\masked.py:60: UserWarning: Pandas requires version '1.3.6' or newer of 'bottleneck' (version '1.3.2' currently installed).\n",
      "  from pandas.core import (\n"
     ]
    }
   ],
   "source": [
    "#importing libraries\n",
    "import pandas as pd\n",
    "import matplotlib.pyplot as plt\n",
    "import seaborn as sns\n",
    "\n",
    "\n",
    "import warnings\n",
    "warnings.filterwarnings(\"ignore\")\n",
    "\n"
   ]
  },
  {
   "cell_type": "code",
   "execution_count": 3,
   "id": "056bf4b1",
   "metadata": {},
   "outputs": [],
   "source": [
    " #pip install --upgrade seaborn"
   ]
  },
  {
   "cell_type": "code",
   "execution_count": 4,
   "id": "574f41b6",
   "metadata": {},
   "outputs": [],
   "source": [
    "# Load data\n",
    "df = pd.read_csv('../data/sales_data.csv', encoding='ISO-8859-1')\n"
   ]
  },
  {
   "cell_type": "code",
   "execution_count": 16,
   "id": "4d0cea4a",
   "metadata": {},
   "outputs": [
    {
     "name": "stdout",
     "output_type": "stream",
     "text": [
      "   Row ID        Order ID  Order Date   Ship Date       Ship Mode Customer ID  \\\n",
      "0       1  CA-2016-152156   11/8/2016  11/11/2016    Second Class    CG-12520   \n",
      "1       2  CA-2016-152156   11/8/2016  11/11/2016    Second Class    CG-12520   \n",
      "2       3  CA-2016-138688   6/12/2016   6/16/2016    Second Class    DV-13045   \n",
      "3       4  US-2015-108966  10/11/2015  10/18/2015  Standard Class    SO-20335   \n",
      "4       5  US-2015-108966  10/11/2015  10/18/2015  Standard Class    SO-20335   \n",
      "\n",
      "     Customer Name    Segment        Country             City  ...  \\\n",
      "0      Claire Gute   Consumer  United States        Henderson  ...   \n",
      "1      Claire Gute   Consumer  United States        Henderson  ...   \n",
      "2  Darrin Van Huff  Corporate  United States      Los Angeles  ...   \n",
      "3   Sean O'Donnell   Consumer  United States  Fort Lauderdale  ...   \n",
      "4   Sean O'Donnell   Consumer  United States  Fort Lauderdale  ...   \n",
      "\n",
      "  Postal Code  Region       Product ID         Category Sub-Category  \\\n",
      "0       42420   South  FUR-BO-10001798        Furniture    Bookcases   \n",
      "1       42420   South  FUR-CH-10000454        Furniture       Chairs   \n",
      "2       90036    West  OFF-LA-10000240  Office Supplies       Labels   \n",
      "3       33311   South  FUR-TA-10000577        Furniture       Tables   \n",
      "4       33311   South  OFF-ST-10000760  Office Supplies      Storage   \n",
      "\n",
      "                                        Product Name     Sales  Quantity  \\\n",
      "0                  Bush Somerset Collection Bookcase  261.9600         2   \n",
      "1  Hon Deluxe Fabric Upholstered Stacking Chairs,...  731.9400         3   \n",
      "2  Self-Adhesive Address Labels for Typewriters b...   14.6200         2   \n",
      "3      Bretford CR4500 Series Slim Rectangular Table  957.5775         5   \n",
      "4                     Eldon Fold 'N Roll Cart System   22.3680         2   \n",
      "\n",
      "   Discount    Profit  \n",
      "0      0.00   41.9136  \n",
      "1      0.00  219.5820  \n",
      "2      0.00    6.8714  \n",
      "3      0.45 -383.0310  \n",
      "4      0.20    2.5164  \n",
      "\n",
      "[5 rows x 21 columns]\n"
     ]
    }
   ],
   "source": [
    "# Overview\n",
    "#print first 5 rows\n",
    "print(df.head())\n",
    "\n",
    "#print last 5 rows\n",
    "#print(df.tail())\n",
    "#print 5 random rows\n",
    "#print(df.sample(5))\n"
   ]
  },
  {
   "cell_type": "code",
   "execution_count": 17,
   "id": "5b84bc43",
   "metadata": {},
   "outputs": [
    {
     "name": "stdout",
     "output_type": "stream",
     "text": [
      "<class 'pandas.core.frame.DataFrame'>\n",
      "RangeIndex: 9994 entries, 0 to 9993\n",
      "Data columns (total 21 columns):\n",
      " #   Column         Non-Null Count  Dtype  \n",
      "---  ------         --------------  -----  \n",
      " 0   Row ID         9994 non-null   int64  \n",
      " 1   Order ID       9994 non-null   object \n",
      " 2   Order Date     9994 non-null   object \n",
      " 3   Ship Date      9994 non-null   object \n",
      " 4   Ship Mode      9994 non-null   object \n",
      " 5   Customer ID    9994 non-null   object \n",
      " 6   Customer Name  9994 non-null   object \n",
      " 7   Segment        9994 non-null   object \n",
      " 8   Country        9994 non-null   object \n",
      " 9   City           9994 non-null   object \n",
      " 10  State          9994 non-null   object \n",
      " 11  Postal Code    9994 non-null   int64  \n",
      " 12  Region         9994 non-null   object \n",
      " 13  Product ID     9994 non-null   object \n",
      " 14  Category       9994 non-null   object \n",
      " 15  Sub-Category   9994 non-null   object \n",
      " 16  Product Name   9994 non-null   object \n",
      " 17  Sales          9994 non-null   float64\n",
      " 18  Quantity       9994 non-null   int64  \n",
      " 19  Discount       9994 non-null   float64\n",
      " 20  Profit         9994 non-null   float64\n",
      "dtypes: float64(3), int64(3), object(15)\n",
      "memory usage: 1.6+ MB\n",
      "None\n"
     ]
    }
   ],
   "source": [
    "#print non-Null count and type of each column\n",
    "print(df.info())\n"
   ]
  },
  {
   "cell_type": "code",
   "execution_count": 18,
   "id": "411b24ba",
   "metadata": {},
   "outputs": [
    {
     "data": {
      "text/html": [
       "<div>\n",
       "<style scoped>\n",
       "    .dataframe tbody tr th:only-of-type {\n",
       "        vertical-align: middle;\n",
       "    }\n",
       "\n",
       "    .dataframe tbody tr th {\n",
       "        vertical-align: top;\n",
       "    }\n",
       "\n",
       "    .dataframe thead th {\n",
       "        text-align: right;\n",
       "    }\n",
       "</style>\n",
       "<table border=\"1\" class=\"dataframe\">\n",
       "  <thead>\n",
       "    <tr style=\"text-align: right;\">\n",
       "      <th></th>\n",
       "      <th>Row ID</th>\n",
       "      <th>Postal Code</th>\n",
       "      <th>Sales</th>\n",
       "      <th>Quantity</th>\n",
       "      <th>Discount</th>\n",
       "      <th>Profit</th>\n",
       "    </tr>\n",
       "  </thead>\n",
       "  <tbody>\n",
       "    <tr>\n",
       "      <th>count</th>\n",
       "      <td>9994.000000</td>\n",
       "      <td>9994.000000</td>\n",
       "      <td>9994.000000</td>\n",
       "      <td>9994.000000</td>\n",
       "      <td>9994.000000</td>\n",
       "      <td>9994.000000</td>\n",
       "    </tr>\n",
       "    <tr>\n",
       "      <th>mean</th>\n",
       "      <td>4997.500000</td>\n",
       "      <td>55190.379428</td>\n",
       "      <td>229.858001</td>\n",
       "      <td>3.789574</td>\n",
       "      <td>0.156203</td>\n",
       "      <td>28.656896</td>\n",
       "    </tr>\n",
       "    <tr>\n",
       "      <th>std</th>\n",
       "      <td>2885.163629</td>\n",
       "      <td>32063.693350</td>\n",
       "      <td>623.245101</td>\n",
       "      <td>2.225110</td>\n",
       "      <td>0.206452</td>\n",
       "      <td>234.260108</td>\n",
       "    </tr>\n",
       "    <tr>\n",
       "      <th>min</th>\n",
       "      <td>1.000000</td>\n",
       "      <td>1040.000000</td>\n",
       "      <td>0.444000</td>\n",
       "      <td>1.000000</td>\n",
       "      <td>0.000000</td>\n",
       "      <td>-6599.978000</td>\n",
       "    </tr>\n",
       "    <tr>\n",
       "      <th>25%</th>\n",
       "      <td>2499.250000</td>\n",
       "      <td>23223.000000</td>\n",
       "      <td>17.280000</td>\n",
       "      <td>2.000000</td>\n",
       "      <td>0.000000</td>\n",
       "      <td>1.728750</td>\n",
       "    </tr>\n",
       "    <tr>\n",
       "      <th>50%</th>\n",
       "      <td>4997.500000</td>\n",
       "      <td>56430.500000</td>\n",
       "      <td>54.490000</td>\n",
       "      <td>3.000000</td>\n",
       "      <td>0.200000</td>\n",
       "      <td>8.666500</td>\n",
       "    </tr>\n",
       "    <tr>\n",
       "      <th>75%</th>\n",
       "      <td>7495.750000</td>\n",
       "      <td>90008.000000</td>\n",
       "      <td>209.940000</td>\n",
       "      <td>5.000000</td>\n",
       "      <td>0.200000</td>\n",
       "      <td>29.364000</td>\n",
       "    </tr>\n",
       "    <tr>\n",
       "      <th>max</th>\n",
       "      <td>9994.000000</td>\n",
       "      <td>99301.000000</td>\n",
       "      <td>22638.480000</td>\n",
       "      <td>14.000000</td>\n",
       "      <td>0.800000</td>\n",
       "      <td>8399.976000</td>\n",
       "    </tr>\n",
       "  </tbody>\n",
       "</table>\n",
       "</div>"
      ],
      "text/plain": [
       "            Row ID   Postal Code         Sales     Quantity     Discount  \\\n",
       "count  9994.000000   9994.000000   9994.000000  9994.000000  9994.000000   \n",
       "mean   4997.500000  55190.379428    229.858001     3.789574     0.156203   \n",
       "std    2885.163629  32063.693350    623.245101     2.225110     0.206452   \n",
       "min       1.000000   1040.000000      0.444000     1.000000     0.000000   \n",
       "25%    2499.250000  23223.000000     17.280000     2.000000     0.000000   \n",
       "50%    4997.500000  56430.500000     54.490000     3.000000     0.200000   \n",
       "75%    7495.750000  90008.000000    209.940000     5.000000     0.200000   \n",
       "max    9994.000000  99301.000000  22638.480000    14.000000     0.800000   \n",
       "\n",
       "            Profit  \n",
       "count  9994.000000  \n",
       "mean     28.656896  \n",
       "std     234.260108  \n",
       "min   -6599.978000  \n",
       "25%       1.728750  \n",
       "50%       8.666500  \n",
       "75%      29.364000  \n",
       "max    8399.976000  "
      ]
     },
     "execution_count": 18,
     "metadata": {},
     "output_type": "execute_result"
    }
   ],
   "source": [
    "#statistical measures of numeric columns\n",
    "df.describe()\n"
   ]
  },
  {
   "cell_type": "code",
   "execution_count": 19,
   "id": "038c8708",
   "metadata": {},
   "outputs": [
    {
     "data": {
      "text/html": [
       "<div>\n",
       "<style scoped>\n",
       "    .dataframe tbody tr th:only-of-type {\n",
       "        vertical-align: middle;\n",
       "    }\n",
       "\n",
       "    .dataframe tbody tr th {\n",
       "        vertical-align: top;\n",
       "    }\n",
       "\n",
       "    .dataframe thead th {\n",
       "        text-align: right;\n",
       "    }\n",
       "</style>\n",
       "<table border=\"1\" class=\"dataframe\">\n",
       "  <thead>\n",
       "    <tr style=\"text-align: right;\">\n",
       "      <th></th>\n",
       "      <th>Row ID</th>\n",
       "      <th>Order ID</th>\n",
       "      <th>Order Date</th>\n",
       "      <th>Ship Date</th>\n",
       "      <th>Ship Mode</th>\n",
       "      <th>Customer ID</th>\n",
       "      <th>Customer Name</th>\n",
       "      <th>Segment</th>\n",
       "      <th>Country</th>\n",
       "      <th>City</th>\n",
       "      <th>...</th>\n",
       "      <th>Postal Code</th>\n",
       "      <th>Region</th>\n",
       "      <th>Product ID</th>\n",
       "      <th>Category</th>\n",
       "      <th>Sub-Category</th>\n",
       "      <th>Product Name</th>\n",
       "      <th>Sales</th>\n",
       "      <th>Quantity</th>\n",
       "      <th>Discount</th>\n",
       "      <th>Profit</th>\n",
       "    </tr>\n",
       "  </thead>\n",
       "  <tbody>\n",
       "    <tr>\n",
       "      <th>count</th>\n",
       "      <td>9994.0</td>\n",
       "      <td>9994</td>\n",
       "      <td>9994</td>\n",
       "      <td>9994</td>\n",
       "      <td>9994</td>\n",
       "      <td>9994</td>\n",
       "      <td>9994</td>\n",
       "      <td>9994</td>\n",
       "      <td>9994</td>\n",
       "      <td>9994</td>\n",
       "      <td>...</td>\n",
       "      <td>9994.0</td>\n",
       "      <td>9994</td>\n",
       "      <td>9994</td>\n",
       "      <td>9994</td>\n",
       "      <td>9994</td>\n",
       "      <td>9994</td>\n",
       "      <td>9994.0</td>\n",
       "      <td>9994.0</td>\n",
       "      <td>9994.0</td>\n",
       "      <td>9994.0</td>\n",
       "    </tr>\n",
       "    <tr>\n",
       "      <th>unique</th>\n",
       "      <td>NaN</td>\n",
       "      <td>5009</td>\n",
       "      <td>1237</td>\n",
       "      <td>1334</td>\n",
       "      <td>4</td>\n",
       "      <td>793</td>\n",
       "      <td>793</td>\n",
       "      <td>3</td>\n",
       "      <td>1</td>\n",
       "      <td>531</td>\n",
       "      <td>...</td>\n",
       "      <td>NaN</td>\n",
       "      <td>4</td>\n",
       "      <td>1862</td>\n",
       "      <td>3</td>\n",
       "      <td>17</td>\n",
       "      <td>1850</td>\n",
       "      <td>NaN</td>\n",
       "      <td>NaN</td>\n",
       "      <td>NaN</td>\n",
       "      <td>NaN</td>\n",
       "    </tr>\n",
       "    <tr>\n",
       "      <th>top</th>\n",
       "      <td>NaN</td>\n",
       "      <td>CA-2017-100111</td>\n",
       "      <td>9/5/2016</td>\n",
       "      <td>12/16/2015</td>\n",
       "      <td>Standard Class</td>\n",
       "      <td>WB-21850</td>\n",
       "      <td>William Brown</td>\n",
       "      <td>Consumer</td>\n",
       "      <td>United States</td>\n",
       "      <td>New York City</td>\n",
       "      <td>...</td>\n",
       "      <td>NaN</td>\n",
       "      <td>West</td>\n",
       "      <td>OFF-PA-10001970</td>\n",
       "      <td>Office Supplies</td>\n",
       "      <td>Binders</td>\n",
       "      <td>Staple envelope</td>\n",
       "      <td>NaN</td>\n",
       "      <td>NaN</td>\n",
       "      <td>NaN</td>\n",
       "      <td>NaN</td>\n",
       "    </tr>\n",
       "    <tr>\n",
       "      <th>freq</th>\n",
       "      <td>NaN</td>\n",
       "      <td>14</td>\n",
       "      <td>38</td>\n",
       "      <td>35</td>\n",
       "      <td>5968</td>\n",
       "      <td>37</td>\n",
       "      <td>37</td>\n",
       "      <td>5191</td>\n",
       "      <td>9994</td>\n",
       "      <td>915</td>\n",
       "      <td>...</td>\n",
       "      <td>NaN</td>\n",
       "      <td>3203</td>\n",
       "      <td>19</td>\n",
       "      <td>6026</td>\n",
       "      <td>1523</td>\n",
       "      <td>48</td>\n",
       "      <td>NaN</td>\n",
       "      <td>NaN</td>\n",
       "      <td>NaN</td>\n",
       "      <td>NaN</td>\n",
       "    </tr>\n",
       "    <tr>\n",
       "      <th>mean</th>\n",
       "      <td>4998.0</td>\n",
       "      <td>NaN</td>\n",
       "      <td>NaN</td>\n",
       "      <td>NaN</td>\n",
       "      <td>NaN</td>\n",
       "      <td>NaN</td>\n",
       "      <td>NaN</td>\n",
       "      <td>NaN</td>\n",
       "      <td>NaN</td>\n",
       "      <td>NaN</td>\n",
       "      <td>...</td>\n",
       "      <td>55190.0</td>\n",
       "      <td>NaN</td>\n",
       "      <td>NaN</td>\n",
       "      <td>NaN</td>\n",
       "      <td>NaN</td>\n",
       "      <td>NaN</td>\n",
       "      <td>230.0</td>\n",
       "      <td>4.0</td>\n",
       "      <td>0.0</td>\n",
       "      <td>29.0</td>\n",
       "    </tr>\n",
       "    <tr>\n",
       "      <th>std</th>\n",
       "      <td>2885.0</td>\n",
       "      <td>NaN</td>\n",
       "      <td>NaN</td>\n",
       "      <td>NaN</td>\n",
       "      <td>NaN</td>\n",
       "      <td>NaN</td>\n",
       "      <td>NaN</td>\n",
       "      <td>NaN</td>\n",
       "      <td>NaN</td>\n",
       "      <td>NaN</td>\n",
       "      <td>...</td>\n",
       "      <td>32064.0</td>\n",
       "      <td>NaN</td>\n",
       "      <td>NaN</td>\n",
       "      <td>NaN</td>\n",
       "      <td>NaN</td>\n",
       "      <td>NaN</td>\n",
       "      <td>623.0</td>\n",
       "      <td>2.0</td>\n",
       "      <td>0.0</td>\n",
       "      <td>234.0</td>\n",
       "    </tr>\n",
       "    <tr>\n",
       "      <th>min</th>\n",
       "      <td>1.0</td>\n",
       "      <td>NaN</td>\n",
       "      <td>NaN</td>\n",
       "      <td>NaN</td>\n",
       "      <td>NaN</td>\n",
       "      <td>NaN</td>\n",
       "      <td>NaN</td>\n",
       "      <td>NaN</td>\n",
       "      <td>NaN</td>\n",
       "      <td>NaN</td>\n",
       "      <td>...</td>\n",
       "      <td>1040.0</td>\n",
       "      <td>NaN</td>\n",
       "      <td>NaN</td>\n",
       "      <td>NaN</td>\n",
       "      <td>NaN</td>\n",
       "      <td>NaN</td>\n",
       "      <td>0.0</td>\n",
       "      <td>1.0</td>\n",
       "      <td>0.0</td>\n",
       "      <td>-6600.0</td>\n",
       "    </tr>\n",
       "    <tr>\n",
       "      <th>25%</th>\n",
       "      <td>2499.0</td>\n",
       "      <td>NaN</td>\n",
       "      <td>NaN</td>\n",
       "      <td>NaN</td>\n",
       "      <td>NaN</td>\n",
       "      <td>NaN</td>\n",
       "      <td>NaN</td>\n",
       "      <td>NaN</td>\n",
       "      <td>NaN</td>\n",
       "      <td>NaN</td>\n",
       "      <td>...</td>\n",
       "      <td>23223.0</td>\n",
       "      <td>NaN</td>\n",
       "      <td>NaN</td>\n",
       "      <td>NaN</td>\n",
       "      <td>NaN</td>\n",
       "      <td>NaN</td>\n",
       "      <td>17.0</td>\n",
       "      <td>2.0</td>\n",
       "      <td>0.0</td>\n",
       "      <td>2.0</td>\n",
       "    </tr>\n",
       "    <tr>\n",
       "      <th>50%</th>\n",
       "      <td>4998.0</td>\n",
       "      <td>NaN</td>\n",
       "      <td>NaN</td>\n",
       "      <td>NaN</td>\n",
       "      <td>NaN</td>\n",
       "      <td>NaN</td>\n",
       "      <td>NaN</td>\n",
       "      <td>NaN</td>\n",
       "      <td>NaN</td>\n",
       "      <td>NaN</td>\n",
       "      <td>...</td>\n",
       "      <td>56430.0</td>\n",
       "      <td>NaN</td>\n",
       "      <td>NaN</td>\n",
       "      <td>NaN</td>\n",
       "      <td>NaN</td>\n",
       "      <td>NaN</td>\n",
       "      <td>54.0</td>\n",
       "      <td>3.0</td>\n",
       "      <td>0.0</td>\n",
       "      <td>9.0</td>\n",
       "    </tr>\n",
       "    <tr>\n",
       "      <th>75%</th>\n",
       "      <td>7496.0</td>\n",
       "      <td>NaN</td>\n",
       "      <td>NaN</td>\n",
       "      <td>NaN</td>\n",
       "      <td>NaN</td>\n",
       "      <td>NaN</td>\n",
       "      <td>NaN</td>\n",
       "      <td>NaN</td>\n",
       "      <td>NaN</td>\n",
       "      <td>NaN</td>\n",
       "      <td>...</td>\n",
       "      <td>90008.0</td>\n",
       "      <td>NaN</td>\n",
       "      <td>NaN</td>\n",
       "      <td>NaN</td>\n",
       "      <td>NaN</td>\n",
       "      <td>NaN</td>\n",
       "      <td>210.0</td>\n",
       "      <td>5.0</td>\n",
       "      <td>0.0</td>\n",
       "      <td>29.0</td>\n",
       "    </tr>\n",
       "    <tr>\n",
       "      <th>max</th>\n",
       "      <td>9994.0</td>\n",
       "      <td>NaN</td>\n",
       "      <td>NaN</td>\n",
       "      <td>NaN</td>\n",
       "      <td>NaN</td>\n",
       "      <td>NaN</td>\n",
       "      <td>NaN</td>\n",
       "      <td>NaN</td>\n",
       "      <td>NaN</td>\n",
       "      <td>NaN</td>\n",
       "      <td>...</td>\n",
       "      <td>99301.0</td>\n",
       "      <td>NaN</td>\n",
       "      <td>NaN</td>\n",
       "      <td>NaN</td>\n",
       "      <td>NaN</td>\n",
       "      <td>NaN</td>\n",
       "      <td>22638.0</td>\n",
       "      <td>14.0</td>\n",
       "      <td>1.0</td>\n",
       "      <td>8400.0</td>\n",
       "    </tr>\n",
       "  </tbody>\n",
       "</table>\n",
       "<p>11 rows × 21 columns</p>\n",
       "</div>"
      ],
      "text/plain": [
       "        Row ID        Order ID Order Date   Ship Date       Ship Mode  \\\n",
       "count   9994.0            9994       9994        9994            9994   \n",
       "unique     NaN            5009       1237        1334               4   \n",
       "top        NaN  CA-2017-100111   9/5/2016  12/16/2015  Standard Class   \n",
       "freq       NaN              14         38          35            5968   \n",
       "mean    4998.0             NaN        NaN         NaN             NaN   \n",
       "std     2885.0             NaN        NaN         NaN             NaN   \n",
       "min        1.0             NaN        NaN         NaN             NaN   \n",
       "25%     2499.0             NaN        NaN         NaN             NaN   \n",
       "50%     4998.0             NaN        NaN         NaN             NaN   \n",
       "75%     7496.0             NaN        NaN         NaN             NaN   \n",
       "max     9994.0             NaN        NaN         NaN             NaN   \n",
       "\n",
       "       Customer ID  Customer Name   Segment        Country           City  \\\n",
       "count         9994           9994      9994           9994           9994   \n",
       "unique         793            793         3              1            531   \n",
       "top       WB-21850  William Brown  Consumer  United States  New York City   \n",
       "freq            37             37      5191           9994            915   \n",
       "mean           NaN            NaN       NaN            NaN            NaN   \n",
       "std            NaN            NaN       NaN            NaN            NaN   \n",
       "min            NaN            NaN       NaN            NaN            NaN   \n",
       "25%            NaN            NaN       NaN            NaN            NaN   \n",
       "50%            NaN            NaN       NaN            NaN            NaN   \n",
       "75%            NaN            NaN       NaN            NaN            NaN   \n",
       "max            NaN            NaN       NaN            NaN            NaN   \n",
       "\n",
       "        ... Postal Code  Region       Product ID         Category  \\\n",
       "count   ...      9994.0    9994             9994             9994   \n",
       "unique  ...         NaN       4             1862                3   \n",
       "top     ...         NaN    West  OFF-PA-10001970  Office Supplies   \n",
       "freq    ...         NaN    3203               19             6026   \n",
       "mean    ...     55190.0     NaN              NaN              NaN   \n",
       "std     ...     32064.0     NaN              NaN              NaN   \n",
       "min     ...      1040.0     NaN              NaN              NaN   \n",
       "25%     ...     23223.0     NaN              NaN              NaN   \n",
       "50%     ...     56430.0     NaN              NaN              NaN   \n",
       "75%     ...     90008.0     NaN              NaN              NaN   \n",
       "max     ...     99301.0     NaN              NaN              NaN   \n",
       "\n",
       "       Sub-Category     Product Name    Sales  Quantity  Discount  Profit  \n",
       "count          9994             9994   9994.0    9994.0    9994.0  9994.0  \n",
       "unique           17             1850      NaN       NaN       NaN     NaN  \n",
       "top         Binders  Staple envelope      NaN       NaN       NaN     NaN  \n",
       "freq           1523               48      NaN       NaN       NaN     NaN  \n",
       "mean            NaN              NaN    230.0       4.0       0.0    29.0  \n",
       "std             NaN              NaN    623.0       2.0       0.0   234.0  \n",
       "min             NaN              NaN      0.0       1.0       0.0 -6600.0  \n",
       "25%             NaN              NaN     17.0       2.0       0.0     2.0  \n",
       "50%             NaN              NaN     54.0       3.0       0.0     9.0  \n",
       "75%             NaN              NaN    210.0       5.0       0.0    29.0  \n",
       "max             NaN              NaN  22638.0      14.0       1.0  8400.0  \n",
       "\n",
       "[11 rows x 21 columns]"
      ]
     },
     "execution_count": 19,
     "metadata": {},
     "output_type": "execute_result"
    }
   ],
   "source": [
    "#statistical measures of all columns\n",
    "df.describe(include='all').round()"
   ]
  },
  {
   "cell_type": "code",
   "execution_count": 20,
   "id": "764585e4",
   "metadata": {},
   "outputs": [
    {
     "data": {
      "text/plain": [
       "Row ID           0\n",
       "Order ID         0\n",
       "Order Date       0\n",
       "Ship Date        0\n",
       "Ship Mode        0\n",
       "Customer ID      0\n",
       "Customer Name    0\n",
       "Segment          0\n",
       "Country          0\n",
       "City             0\n",
       "State            0\n",
       "Postal Code      0\n",
       "Region           0\n",
       "Product ID       0\n",
       "Category         0\n",
       "Sub-Category     0\n",
       "Product Name     0\n",
       "Sales            0\n",
       "Quantity         0\n",
       "Discount         0\n",
       "Profit           0\n",
       "dtype: int64"
      ]
     },
     "execution_count": 20,
     "metadata": {},
     "output_type": "execute_result"
    }
   ],
   "source": [
    "#number of null values in each column\n",
    "df.isna().sum()"
   ]
  },
  {
   "cell_type": "code",
   "execution_count": 21,
   "id": "79d2de03",
   "metadata": {},
   "outputs": [],
   "source": [
    "# Cleaning the data"
   ]
  },
  {
   "cell_type": "code",
   "execution_count": 22,
   "id": "e294bf9c",
   "metadata": {},
   "outputs": [
    {
     "name": "stdout",
     "output_type": "stream",
     "text": [
      "<class 'pandas.core.frame.DataFrame'>\n",
      "RangeIndex: 9994 entries, 0 to 9993\n",
      "Data columns (total 21 columns):\n",
      " #   Column         Non-Null Count  Dtype         \n",
      "---  ------         --------------  -----         \n",
      " 0   Row ID         9994 non-null   int64         \n",
      " 1   Order ID       9994 non-null   object        \n",
      " 2   Order Date     9994 non-null   datetime64[ns]\n",
      " 3   Ship Date      9994 non-null   datetime64[ns]\n",
      " 4   Ship Mode      9994 non-null   object        \n",
      " 5   Customer ID    9994 non-null   object        \n",
      " 6   Customer Name  9994 non-null   object        \n",
      " 7   Segment        9994 non-null   object        \n",
      " 8   Country        9994 non-null   object        \n",
      " 9   City           9994 non-null   object        \n",
      " 10  State          9994 non-null   object        \n",
      " 11  Postal Code    9994 non-null   int64         \n",
      " 12  Region         9994 non-null   object        \n",
      " 13  Product ID     9994 non-null   object        \n",
      " 14  Category       9994 non-null   object        \n",
      " 15  Sub-Category   9994 non-null   object        \n",
      " 16  Product Name   9994 non-null   object        \n",
      " 17  Sales          9994 non-null   float64       \n",
      " 18  Quantity       9994 non-null   int64         \n",
      " 19  Discount       9994 non-null   float64       \n",
      " 20  Profit         9994 non-null   float64       \n",
      "dtypes: datetime64[ns](2), float64(3), int64(3), object(13)\n",
      "memory usage: 1.6+ MB\n"
     ]
    }
   ],
   "source": [
    "#turning order date and ship date columns type to datetime type\n",
    "df['Order Date'] = pd.to_datetime(df['Order Date'])\n",
    "df['Ship Date'] = pd.to_datetime(df['Ship Date'])\n",
    "\n",
    "df.info()\n"
   ]
  },
  {
   "cell_type": "code",
   "execution_count": 25,
   "id": "2a872fb7",
   "metadata": {},
   "outputs": [
    {
     "data": {
      "text/plain": [
       "False"
      ]
     },
     "execution_count": 25,
     "metadata": {},
     "output_type": "execute_result"
    }
   ],
   "source": [
    "#number of duplicate rows in each column\n",
    "df.duplicated().any()"
   ]
  },
  {
   "cell_type": "code",
   "execution_count": 26,
   "id": "8b4d8526",
   "metadata": {},
   "outputs": [
    {
     "data": {
      "text/html": [
       "<div>\n",
       "<style scoped>\n",
       "    .dataframe tbody tr th:only-of-type {\n",
       "        vertical-align: middle;\n",
       "    }\n",
       "\n",
       "    .dataframe tbody tr th {\n",
       "        vertical-align: top;\n",
       "    }\n",
       "\n",
       "    .dataframe thead th {\n",
       "        text-align: right;\n",
       "    }\n",
       "</style>\n",
       "<table border=\"1\" class=\"dataframe\">\n",
       "  <thead>\n",
       "    <tr style=\"text-align: right;\">\n",
       "      <th></th>\n",
       "      <th>Count</th>\n",
       "      <th>Null</th>\n",
       "      <th>Null%</th>\n",
       "      <th>cardinality</th>\n",
       "    </tr>\n",
       "  </thead>\n",
       "  <tbody>\n",
       "    <tr>\n",
       "      <th>Row ID</th>\n",
       "      <td>9994</td>\n",
       "      <td>0</td>\n",
       "      <td>0.0</td>\n",
       "      <td>9994</td>\n",
       "    </tr>\n",
       "    <tr>\n",
       "      <th>Order ID</th>\n",
       "      <td>9994</td>\n",
       "      <td>0</td>\n",
       "      <td>0.0</td>\n",
       "      <td>5009</td>\n",
       "    </tr>\n",
       "    <tr>\n",
       "      <th>Order Date</th>\n",
       "      <td>9994</td>\n",
       "      <td>0</td>\n",
       "      <td>0.0</td>\n",
       "      <td>1237</td>\n",
       "    </tr>\n",
       "    <tr>\n",
       "      <th>Ship Date</th>\n",
       "      <td>9994</td>\n",
       "      <td>0</td>\n",
       "      <td>0.0</td>\n",
       "      <td>1334</td>\n",
       "    </tr>\n",
       "    <tr>\n",
       "      <th>Ship Mode</th>\n",
       "      <td>9994</td>\n",
       "      <td>0</td>\n",
       "      <td>0.0</td>\n",
       "      <td>4</td>\n",
       "    </tr>\n",
       "    <tr>\n",
       "      <th>Customer ID</th>\n",
       "      <td>9994</td>\n",
       "      <td>0</td>\n",
       "      <td>0.0</td>\n",
       "      <td>793</td>\n",
       "    </tr>\n",
       "    <tr>\n",
       "      <th>Customer Name</th>\n",
       "      <td>9994</td>\n",
       "      <td>0</td>\n",
       "      <td>0.0</td>\n",
       "      <td>793</td>\n",
       "    </tr>\n",
       "    <tr>\n",
       "      <th>Segment</th>\n",
       "      <td>9994</td>\n",
       "      <td>0</td>\n",
       "      <td>0.0</td>\n",
       "      <td>3</td>\n",
       "    </tr>\n",
       "    <tr>\n",
       "      <th>Country</th>\n",
       "      <td>9994</td>\n",
       "      <td>0</td>\n",
       "      <td>0.0</td>\n",
       "      <td>1</td>\n",
       "    </tr>\n",
       "    <tr>\n",
       "      <th>City</th>\n",
       "      <td>9994</td>\n",
       "      <td>0</td>\n",
       "      <td>0.0</td>\n",
       "      <td>531</td>\n",
       "    </tr>\n",
       "    <tr>\n",
       "      <th>State</th>\n",
       "      <td>9994</td>\n",
       "      <td>0</td>\n",
       "      <td>0.0</td>\n",
       "      <td>49</td>\n",
       "    </tr>\n",
       "    <tr>\n",
       "      <th>Postal Code</th>\n",
       "      <td>9994</td>\n",
       "      <td>0</td>\n",
       "      <td>0.0</td>\n",
       "      <td>631</td>\n",
       "    </tr>\n",
       "    <tr>\n",
       "      <th>Region</th>\n",
       "      <td>9994</td>\n",
       "      <td>0</td>\n",
       "      <td>0.0</td>\n",
       "      <td>4</td>\n",
       "    </tr>\n",
       "    <tr>\n",
       "      <th>Product ID</th>\n",
       "      <td>9994</td>\n",
       "      <td>0</td>\n",
       "      <td>0.0</td>\n",
       "      <td>1862</td>\n",
       "    </tr>\n",
       "    <tr>\n",
       "      <th>Category</th>\n",
       "      <td>9994</td>\n",
       "      <td>0</td>\n",
       "      <td>0.0</td>\n",
       "      <td>3</td>\n",
       "    </tr>\n",
       "    <tr>\n",
       "      <th>Sub-Category</th>\n",
       "      <td>9994</td>\n",
       "      <td>0</td>\n",
       "      <td>0.0</td>\n",
       "      <td>17</td>\n",
       "    </tr>\n",
       "    <tr>\n",
       "      <th>Product Name</th>\n",
       "      <td>9994</td>\n",
       "      <td>0</td>\n",
       "      <td>0.0</td>\n",
       "      <td>1850</td>\n",
       "    </tr>\n",
       "    <tr>\n",
       "      <th>Sales</th>\n",
       "      <td>9994</td>\n",
       "      <td>0</td>\n",
       "      <td>0.0</td>\n",
       "      <td>5825</td>\n",
       "    </tr>\n",
       "    <tr>\n",
       "      <th>Quantity</th>\n",
       "      <td>9994</td>\n",
       "      <td>0</td>\n",
       "      <td>0.0</td>\n",
       "      <td>14</td>\n",
       "    </tr>\n",
       "    <tr>\n",
       "      <th>Discount</th>\n",
       "      <td>9994</td>\n",
       "      <td>0</td>\n",
       "      <td>0.0</td>\n",
       "      <td>12</td>\n",
       "    </tr>\n",
       "    <tr>\n",
       "      <th>Profit</th>\n",
       "      <td>9994</td>\n",
       "      <td>0</td>\n",
       "      <td>0.0</td>\n",
       "      <td>7287</td>\n",
       "    </tr>\n",
       "  </tbody>\n",
       "</table>\n",
       "</div>"
      ],
      "text/plain": [
       "               Count  Null  Null%  cardinality\n",
       "Row ID          9994     0    0.0         9994\n",
       "Order ID        9994     0    0.0         5009\n",
       "Order Date      9994     0    0.0         1237\n",
       "Ship Date       9994     0    0.0         1334\n",
       "Ship Mode       9994     0    0.0            4\n",
       "Customer ID     9994     0    0.0          793\n",
       "Customer Name   9994     0    0.0          793\n",
       "Segment         9994     0    0.0            3\n",
       "Country         9994     0    0.0            1\n",
       "City            9994     0    0.0          531\n",
       "State           9994     0    0.0           49\n",
       "Postal Code     9994     0    0.0          631\n",
       "Region          9994     0    0.0            4\n",
       "Product ID      9994     0    0.0         1862\n",
       "Category        9994     0    0.0            3\n",
       "Sub-Category    9994     0    0.0           17\n",
       "Product Name    9994     0    0.0         1850\n",
       "Sales           9994     0    0.0         5825\n",
       "Quantity        9994     0    0.0           14\n",
       "Discount        9994     0    0.0           12\n",
       "Profit          9994     0    0.0         7287"
      ]
     },
     "execution_count": 26,
     "metadata": {},
     "output_type": "execute_result"
    }
   ],
   "source": [
    "pd.DataFrame({\n",
    "   'Count' :df.shape[0] ,\n",
    "   'Null' : df.isnull().sum() ,\n",
    "   'Null%' : df.isnull().mean()*100 ,\n",
    "   'cardinality' : df.nunique()\n",
    "})"
   ]
  },
  {
   "cell_type": "code",
   "execution_count": 27,
   "id": "68a5a2e1",
   "metadata": {},
   "outputs": [],
   "source": [
    "# add more detailed columns to order date, to help with the analysis\n",
    "df['Order_Year'] = df['Order Date'].dt.year\n",
    "df['Order_Month'] = df['Order Date'].dt.month\n",
    "df['Order_DayOfWeek'] = df['Order Date'].dt.dayofweek  # 0 = Monday\n",
    "df['Order_Week'] = df['Order Date'].dt.isocalendar().week\n",
    "df['Is_Weekend'] = df['Order_DayOfWeek'].apply(lambda x: 1 if x >= 5 else 0)"
   ]
  },
  {
   "cell_type": "code",
   "execution_count": 28,
   "id": "9e58f7d2",
   "metadata": {},
   "outputs": [
    {
     "data": {
      "text/plain": [
       "array(['Kentucky', 'California', 'Florida', 'North Carolina',\n",
       "       'Washington', 'Texas', 'Wisconsin', 'Utah', 'Nebraska',\n",
       "       'Pennsylvania', 'Illinois', 'Minnesota', 'Michigan', 'Delaware',\n",
       "       'Indiana', 'New York', 'Arizona', 'Virginia', 'Tennessee',\n",
       "       'Alabama', 'South Carolina', 'Oregon', 'Colorado', 'Iowa', 'Ohio',\n",
       "       'Missouri', 'Oklahoma', 'New Mexico', 'Louisiana', 'Connecticut',\n",
       "       'New Jersey', 'Massachusetts', 'Georgia', 'Nevada', 'Rhode Island',\n",
       "       'Mississippi', 'Arkansas', 'Montana', 'New Hampshire', 'Maryland',\n",
       "       'District of Columbia', 'Kansas', 'Vermont', 'Maine',\n",
       "       'South Dakota', 'Idaho', 'North Dakota', 'Wyoming',\n",
       "       'West Virginia'], dtype=object)"
      ]
     },
     "execution_count": 28,
     "metadata": {},
     "output_type": "execute_result"
    }
   ],
   "source": [
    "# active states\n",
    "df[\"State\"].unique()"
   ]
  },
  {
   "cell_type": "code",
   "execution_count": 34,
   "id": "fbdb56c3",
   "metadata": {},
   "outputs": [
    {
     "name": "stdout",
     "output_type": "stream",
     "text": [
      "'Row ID' column dropped successfully.\n",
      "<class 'pandas.core.frame.DataFrame'>\n",
      "RangeIndex: 9994 entries, 0 to 9993\n",
      "Data columns (total 26 columns):\n",
      " #   Column           Non-Null Count  Dtype         \n",
      "---  ------           --------------  -----         \n",
      " 0   Order ID         9994 non-null   object        \n",
      " 1   Order Date       9994 non-null   datetime64[ns]\n",
      " 2   Ship Date        9994 non-null   datetime64[ns]\n",
      " 3   Ship Mode        9994 non-null   object        \n",
      " 4   Customer ID      9994 non-null   object        \n",
      " 5   Customer Name    9994 non-null   object        \n",
      " 6   Segment          9994 non-null   object        \n",
      " 7   Country          9994 non-null   object        \n",
      " 8   City             9994 non-null   object        \n",
      " 9   State            9994 non-null   object        \n",
      " 10  Postal Code      9994 non-null   int64         \n",
      " 11  Region           9994 non-null   object        \n",
      " 12  Product ID       9994 non-null   object        \n",
      " 13  Category         9994 non-null   object        \n",
      " 14  Sub-Category     9994 non-null   object        \n",
      " 15  Product Name     9994 non-null   object        \n",
      " 16  Sales            9994 non-null   float64       \n",
      " 17  Quantity         9994 non-null   int64         \n",
      " 18  Discount         9994 non-null   float64       \n",
      " 19  Profit           9994 non-null   float64       \n",
      " 20  Order_Year       9994 non-null   int32         \n",
      " 21  Order_Month      9994 non-null   int32         \n",
      " 22  Order_DayOfWeek  9994 non-null   int32         \n",
      " 23  Order_Week       9994 non-null   UInt32        \n",
      " 24  Is_Weekend       9994 non-null   int64         \n",
      " 25  Delivery Delay   9994 non-null   int64         \n",
      "dtypes: UInt32(1), datetime64[ns](2), float64(3), int32(3), int64(4), object(13)\n",
      "memory usage: 1.8+ MB\n"
     ]
    }
   ],
   "source": [
    "# transform cleaning\n",
    "\n",
    "# Drop unnecessary columns, row id\n",
    "if \"Row ID\" in df.columns:\n",
    "    df.drop(columns=[\"Row ID\"], inplace=True)\n",
    "    print(\"'Row ID' column dropped successfully.\")\n",
    "else:\n",
    "    print(\"'Row ID' column not found after cleaning.\")\n",
    "\n",
    "# Drop rows with critical missing values\n",
    "df.dropna(subset=[\"Order Date\", \"Ship Date\", \"Customer ID\", \"Product ID\"], inplace=True)\n",
    "\n",
    "# Fill non-critical values\n",
    "if \"Postal Code\" in df.columns:\n",
    "    df[\"Postal Code\"].fillna(0, inplace=True)\n",
    "\n",
    "# Add a calculated column for delivery delay in days\n",
    "df[\"Delivery Delay\"] = (df[\"Ship Date\"] - df[\"Order Date\"]).dt.days\n",
    "\n",
    "df.info()"
   ]
  },
  {
   "cell_type": "code",
   "execution_count": 35,
   "id": "542f7b0e",
   "metadata": {},
   "outputs": [],
   "source": [
    "#general analysis"
   ]
  },
  {
   "cell_type": "code",
   "execution_count": 36,
   "id": "ec35fdea",
   "metadata": {},
   "outputs": [
    {
     "name": "stdout",
     "output_type": "stream",
     "text": [
      "Category\n",
      "Technology         836154.0330\n",
      "Furniture          741999.7953\n",
      "Office Supplies    719047.0320\n",
      "Name: Sales, dtype: float64\n"
     ]
    }
   ],
   "source": [
    "#print sales category and sum of each category\n",
    "category_sales = df.groupby('Category')['Sales'].sum().sort_values(ascending=False)\n",
    "print(category_sales)"
   ]
  },
  {
   "cell_type": "code",
   "execution_count": 37,
   "id": "e796be8b",
   "metadata": {},
   "outputs": [
    {
     "name": "stdout",
     "output_type": "stream",
     "text": [
      "Region\n",
      "West       725457.8245\n",
      "East       678781.2400\n",
      "Central    501239.8908\n",
      "South      391721.9050\n",
      "Name: Sales, dtype: float64\n"
     ]
    }
   ],
   "source": [
    "#print sales region and sum of each region\n",
    "region_sales = df.groupby('Region')['Sales'].sum().sort_values(ascending=False)\n",
    "print(region_sales)"
   ]
  },
  {
   "cell_type": "code",
   "execution_count": 38,
   "id": "62a35f74",
   "metadata": {},
   "outputs": [
    {
     "name": "stdout",
     "output_type": "stream",
     "text": [
      "Order Date\n",
      "2014-01-31     14236.8950\n",
      "2014-02-28      4519.8920\n",
      "2014-03-31     55691.0090\n",
      "2014-04-30     28295.3450\n",
      "2014-05-31     23648.2870\n",
      "2014-06-30     34595.1276\n",
      "2014-07-31     33946.3930\n",
      "2014-08-31     27909.4685\n",
      "2014-09-30     81777.3508\n",
      "2014-10-31     31453.3930\n",
      "2014-11-30     78628.7167\n",
      "2014-12-31     69545.6205\n",
      "2015-01-31     18174.0756\n",
      "2015-02-28     11951.4110\n",
      "2015-03-31     38726.2520\n",
      "2015-04-30     34195.2085\n",
      "2015-05-31     30131.6865\n",
      "2015-06-30     24797.2920\n",
      "2015-07-31     28765.3250\n",
      "2015-08-31     36898.3322\n",
      "2015-09-30     64595.9180\n",
      "2015-10-31     31404.9235\n",
      "2015-11-30     75972.5635\n",
      "2015-12-31     74919.5212\n",
      "2016-01-31     18542.4910\n",
      "2016-02-29     22978.8150\n",
      "2016-03-31     51715.8750\n",
      "2016-04-30     38750.0390\n",
      "2016-05-31     56987.7280\n",
      "2016-06-30     40344.5340\n",
      "2016-07-31     39261.9630\n",
      "2016-08-31     31115.3743\n",
      "2016-09-30     73410.0249\n",
      "2016-10-31     59687.7450\n",
      "2016-11-30     79411.9658\n",
      "2016-12-31     96999.0430\n",
      "2017-01-31     43971.3740\n",
      "2017-02-28     20301.1334\n",
      "2017-03-31     58872.3528\n",
      "2017-04-30     36521.5361\n",
      "2017-05-31     44261.1102\n",
      "2017-06-30     52981.7257\n",
      "2017-07-31     45264.4160\n",
      "2017-08-31     63120.8880\n",
      "2017-09-30     87866.6520\n",
      "2017-10-31     77776.9232\n",
      "2017-11-30    118447.8250\n",
      "2017-12-31     83829.3188\n",
      "Freq: ME, Name: Sales, dtype: float64\n"
     ]
    }
   ],
   "source": [
    "#print monthly sales and sum of each month\n",
    "monthly_sales = df.resample('ME', on='Order Date')['Sales'].sum()\n",
    "print(monthly_sales)"
   ]
  },
  {
   "cell_type": "code",
   "execution_count": 39,
   "id": "2e39eee3",
   "metadata": {},
   "outputs": [
    {
     "name": "stdout",
     "output_type": "stream",
     "text": [
      "Sub-Category\n",
      "Copiers        55617.8249\n",
      "Phones         44515.7306\n",
      "Accessories    41936.6357\n",
      "Paper          34053.5693\n",
      "Binders        30221.7633\n",
      "Chairs         26590.1663\n",
      "Storage        21278.8264\n",
      "Appliances     18138.0054\n",
      "Furnishings    13059.1436\n",
      "Envelopes       6964.1767\n",
      "Art             6527.7870\n",
      "Labels          5546.2540\n",
      "Machines        3384.7569\n",
      "Fasteners        949.5182\n",
      "Supplies       -1189.0995\n",
      "Bookcases      -3472.5560\n",
      "Tables        -17725.4811\n",
      "Name: Profit, dtype: float64\n"
     ]
    }
   ],
   "source": [
    "#print subcategory and the profit each subcategory made\n",
    "subcat_profit = df.groupby('Sub-Category')['Profit'].sum().sort_values(ascending=False)\n",
    "print(subcat_profit)"
   ]
  },
  {
   "cell_type": "code",
   "execution_count": null,
   "id": "fbac25f8",
   "metadata": {},
   "outputs": [],
   "source": []
  },
  {
   "cell_type": "code",
   "execution_count": 40,
   "id": "84ab8a17",
   "metadata": {},
   "outputs": [],
   "source": [
    "# transform build dimentions\n",
    "\n",
    "#Customer Dimension\n",
    "dim_customer = df[[\"Customer ID\", \"Customer Name\", \"Segment\"]].drop_duplicates()\n",
    "\n",
    "#Product Dimension\n",
    "dim_product = df[[\"Product ID\", \"Product Name\", \"Category\", \"Sub-Category\"]].drop_duplicates()\n",
    "\n",
    "#Regional Dimension\n",
    "dim_region = df[[\"Country\", \"State\", \"Region\", \"City\", \"Postal Code\"]].drop_duplicates().reset_index(drop=True)\n",
    "dim_region[\"Region ID\"] = dim_region.index + 1  # Surrogate key\n",
    "\n",
    "#Shipping Mode Dimension\n",
    "dim_transport = df[[\"Ship Mode\"]].drop_duplicates().reset_index(drop=True)\n",
    "dim_transport[\"Transport ID\"] = dim_transport.index + 1  # Surrogate key\n",
    "\n",
    "#Date Dimension based on Order Date\n",
    "dim_date = pd.DataFrame()\n",
    "dim_date[\"Order Date\"] = pd.to_datetime(df[\"Order Date\"].unique())\n",
    "dim_date[\"Date Key\"] = dim_date[\"Order Date\"].dt.strftime(\"%Y%m%d\").astype(int)  # YYYYMMDD integer format\n",
    "dim_date[\"Year\"] = dim_date[\"Order Date\"].dt.year\n",
    "dim_date[\"Month\"] = dim_date[\"Order Date\"].dt.month\n",
    "dim_date[\"Quarter\"] = dim_date[\"Order Date\"].dt.quarter\n",
    "dim_date[\"Weekday\"] = dim_date[\"Order Date\"].dt.day_name()"
   ]
  },
  {
   "cell_type": "code",
   "execution_count": 41,
   "id": "da9dbe96",
   "metadata": {},
   "outputs": [
    {
     "name": "stdout",
     "output_type": "stream",
     "text": [
      "<class 'pandas.core.frame.DataFrame'>\n",
      "RangeIndex: 9994 entries, 0 to 9993\n",
      "Data columns (total 11 columns):\n",
      " #   Column          Non-Null Count  Dtype  \n",
      "---  ------          --------------  -----  \n",
      " 0   Order ID        9994 non-null   object \n",
      " 1   Customer ID     9994 non-null   object \n",
      " 2   Product ID      9994 non-null   object \n",
      " 3   Region ID       9994 non-null   int64  \n",
      " 4   Transport ID    9994 non-null   int64  \n",
      " 5   Date Key        9994 non-null   int32  \n",
      " 6   Quantity        9994 non-null   int64  \n",
      " 7   Sales           9994 non-null   float64\n",
      " 8   Discount        9994 non-null   float64\n",
      " 9   Profit          9994 non-null   float64\n",
      " 10  Delivery Delay  9994 non-null   int64  \n",
      "dtypes: float64(3), int32(1), int64(4), object(3)\n",
      "memory usage: 819.9+ KB\n"
     ]
    },
    {
     "data": {
      "text/html": [
       "<div>\n",
       "<style scoped>\n",
       "    .dataframe tbody tr th:only-of-type {\n",
       "        vertical-align: middle;\n",
       "    }\n",
       "\n",
       "    .dataframe tbody tr th {\n",
       "        vertical-align: top;\n",
       "    }\n",
       "\n",
       "    .dataframe thead th {\n",
       "        text-align: right;\n",
       "    }\n",
       "</style>\n",
       "<table border=\"1\" class=\"dataframe\">\n",
       "  <thead>\n",
       "    <tr style=\"text-align: right;\">\n",
       "      <th></th>\n",
       "      <th>Order ID</th>\n",
       "      <th>Customer ID</th>\n",
       "      <th>Product ID</th>\n",
       "      <th>Region ID</th>\n",
       "      <th>Transport ID</th>\n",
       "      <th>Date Key</th>\n",
       "      <th>Quantity</th>\n",
       "      <th>Sales</th>\n",
       "      <th>Discount</th>\n",
       "      <th>Profit</th>\n",
       "      <th>Delivery Delay</th>\n",
       "    </tr>\n",
       "  </thead>\n",
       "  <tbody>\n",
       "    <tr>\n",
       "      <th>0</th>\n",
       "      <td>CA-2016-152156</td>\n",
       "      <td>CG-12520</td>\n",
       "      <td>FUR-BO-10001798</td>\n",
       "      <td>1</td>\n",
       "      <td>1</td>\n",
       "      <td>20161108</td>\n",
       "      <td>2</td>\n",
       "      <td>261.9600</td>\n",
       "      <td>0.00</td>\n",
       "      <td>41.9136</td>\n",
       "      <td>3</td>\n",
       "    </tr>\n",
       "    <tr>\n",
       "      <th>1</th>\n",
       "      <td>CA-2016-152156</td>\n",
       "      <td>CG-12520</td>\n",
       "      <td>FUR-CH-10000454</td>\n",
       "      <td>1</td>\n",
       "      <td>1</td>\n",
       "      <td>20161108</td>\n",
       "      <td>3</td>\n",
       "      <td>731.9400</td>\n",
       "      <td>0.00</td>\n",
       "      <td>219.5820</td>\n",
       "      <td>3</td>\n",
       "    </tr>\n",
       "    <tr>\n",
       "      <th>2</th>\n",
       "      <td>CA-2016-138688</td>\n",
       "      <td>DV-13045</td>\n",
       "      <td>OFF-LA-10000240</td>\n",
       "      <td>2</td>\n",
       "      <td>1</td>\n",
       "      <td>20160612</td>\n",
       "      <td>2</td>\n",
       "      <td>14.6200</td>\n",
       "      <td>0.00</td>\n",
       "      <td>6.8714</td>\n",
       "      <td>4</td>\n",
       "    </tr>\n",
       "    <tr>\n",
       "      <th>3</th>\n",
       "      <td>US-2015-108966</td>\n",
       "      <td>SO-20335</td>\n",
       "      <td>FUR-TA-10000577</td>\n",
       "      <td>3</td>\n",
       "      <td>2</td>\n",
       "      <td>20151011</td>\n",
       "      <td>5</td>\n",
       "      <td>957.5775</td>\n",
       "      <td>0.45</td>\n",
       "      <td>-383.0310</td>\n",
       "      <td>7</td>\n",
       "    </tr>\n",
       "    <tr>\n",
       "      <th>4</th>\n",
       "      <td>US-2015-108966</td>\n",
       "      <td>SO-20335</td>\n",
       "      <td>OFF-ST-10000760</td>\n",
       "      <td>3</td>\n",
       "      <td>2</td>\n",
       "      <td>20151011</td>\n",
       "      <td>2</td>\n",
       "      <td>22.3680</td>\n",
       "      <td>0.20</td>\n",
       "      <td>2.5164</td>\n",
       "      <td>7</td>\n",
       "    </tr>\n",
       "    <tr>\n",
       "      <th>5</th>\n",
       "      <td>CA-2014-115812</td>\n",
       "      <td>BH-11710</td>\n",
       "      <td>FUR-FU-10001487</td>\n",
       "      <td>4</td>\n",
       "      <td>2</td>\n",
       "      <td>20140609</td>\n",
       "      <td>7</td>\n",
       "      <td>48.8600</td>\n",
       "      <td>0.00</td>\n",
       "      <td>14.1694</td>\n",
       "      <td>5</td>\n",
       "    </tr>\n",
       "    <tr>\n",
       "      <th>6</th>\n",
       "      <td>CA-2014-115812</td>\n",
       "      <td>BH-11710</td>\n",
       "      <td>OFF-AR-10002833</td>\n",
       "      <td>4</td>\n",
       "      <td>2</td>\n",
       "      <td>20140609</td>\n",
       "      <td>4</td>\n",
       "      <td>7.2800</td>\n",
       "      <td>0.00</td>\n",
       "      <td>1.9656</td>\n",
       "      <td>5</td>\n",
       "    </tr>\n",
       "    <tr>\n",
       "      <th>7</th>\n",
       "      <td>CA-2014-115812</td>\n",
       "      <td>BH-11710</td>\n",
       "      <td>TEC-PH-10002275</td>\n",
       "      <td>4</td>\n",
       "      <td>2</td>\n",
       "      <td>20140609</td>\n",
       "      <td>6</td>\n",
       "      <td>907.1520</td>\n",
       "      <td>0.20</td>\n",
       "      <td>90.7152</td>\n",
       "      <td>5</td>\n",
       "    </tr>\n",
       "    <tr>\n",
       "      <th>8</th>\n",
       "      <td>CA-2014-115812</td>\n",
       "      <td>BH-11710</td>\n",
       "      <td>OFF-BI-10003910</td>\n",
       "      <td>4</td>\n",
       "      <td>2</td>\n",
       "      <td>20140609</td>\n",
       "      <td>3</td>\n",
       "      <td>18.5040</td>\n",
       "      <td>0.20</td>\n",
       "      <td>5.7825</td>\n",
       "      <td>5</td>\n",
       "    </tr>\n",
       "    <tr>\n",
       "      <th>9</th>\n",
       "      <td>CA-2014-115812</td>\n",
       "      <td>BH-11710</td>\n",
       "      <td>OFF-AP-10002892</td>\n",
       "      <td>4</td>\n",
       "      <td>2</td>\n",
       "      <td>20140609</td>\n",
       "      <td>5</td>\n",
       "      <td>114.9000</td>\n",
       "      <td>0.00</td>\n",
       "      <td>34.4700</td>\n",
       "      <td>5</td>\n",
       "    </tr>\n",
       "  </tbody>\n",
       "</table>\n",
       "</div>"
      ],
      "text/plain": [
       "         Order ID Customer ID       Product ID  Region ID  Transport ID  \\\n",
       "0  CA-2016-152156    CG-12520  FUR-BO-10001798          1             1   \n",
       "1  CA-2016-152156    CG-12520  FUR-CH-10000454          1             1   \n",
       "2  CA-2016-138688    DV-13045  OFF-LA-10000240          2             1   \n",
       "3  US-2015-108966    SO-20335  FUR-TA-10000577          3             2   \n",
       "4  US-2015-108966    SO-20335  OFF-ST-10000760          3             2   \n",
       "5  CA-2014-115812    BH-11710  FUR-FU-10001487          4             2   \n",
       "6  CA-2014-115812    BH-11710  OFF-AR-10002833          4             2   \n",
       "7  CA-2014-115812    BH-11710  TEC-PH-10002275          4             2   \n",
       "8  CA-2014-115812    BH-11710  OFF-BI-10003910          4             2   \n",
       "9  CA-2014-115812    BH-11710  OFF-AP-10002892          4             2   \n",
       "\n",
       "   Date Key  Quantity     Sales  Discount    Profit  Delivery Delay  \n",
       "0  20161108         2  261.9600      0.00   41.9136               3  \n",
       "1  20161108         3  731.9400      0.00  219.5820               3  \n",
       "2  20160612         2   14.6200      0.00    6.8714               4  \n",
       "3  20151011         5  957.5775      0.45 -383.0310               7  \n",
       "4  20151011         2   22.3680      0.20    2.5164               7  \n",
       "5  20140609         7   48.8600      0.00   14.1694               5  \n",
       "6  20140609         4    7.2800      0.00    1.9656               5  \n",
       "7  20140609         6  907.1520      0.20   90.7152               5  \n",
       "8  20140609         3   18.5040      0.20    5.7825               5  \n",
       "9  20140609         5  114.9000      0.00   34.4700               5  "
      ]
     },
     "execution_count": 41,
     "metadata": {},
     "output_type": "execute_result"
    }
   ],
   "source": [
    "#build fact tables\n",
    "\n",
    "# Merge foreign keys into the fact table\n",
    "merged_df = df.merge(dim_region, on=[\"Country\", \"State\", \"Region\", \"City\", \"Postal Code\"], how=\"left\")\n",
    "merged_df = merged_df.merge(dim_transport, on=\"Ship Mode\", how=\"left\")\n",
    "\n",
    "# Create the Date Key for the fact table\n",
    "merged_df[\"Date Key\"] = merged_df[\"Order Date\"].dt.strftime(\"%Y%m%d\").astype(int)\n",
    "\n",
    "# Final Fact Table (fact_sales) containing business measures\n",
    "fact_sales = merged_df[[\n",
    "    \"Order ID\", \"Customer ID\", \"Product ID\",\n",
    "    \"Region ID\", \"Transport ID\", \"Date Key\",\n",
    "    \"Quantity\", \"Sales\", \"Discount\", \"Profit\", \"Delivery Delay\"\n",
    "]]\n",
    "\n",
    "fact_sales.info()\n",
    "fact_sales.head(10)"
   ]
  },
  {
   "cell_type": "code",
   "execution_count": 42,
   "id": "fede5fb5",
   "metadata": {},
   "outputs": [],
   "source": [
    "# Load\n",
    "\n",
    "# Save all dimension and fact tables as CSV files (simulate loading into a data warehouse)\n",
    "dim_customer.to_csv(\"dim_customer.csv\", index=False)\n",
    "dim_product.to_csv(\"dim_product.csv\", index=False)\n",
    "dim_region.to_csv(\"dim_region.csv\", index=False)\n",
    "dim_date.to_csv(\"dim_date.csv\", index=False)\n",
    "dim_transport.to_csv(\"dim_transport.csv\", index=False)\n",
    "fact_sales.to_csv(\"fact_sales.csv\", index=False)"
   ]
  },
  {
   "cell_type": "code",
   "execution_count": 43,
   "id": "a5dcb06e",
   "metadata": {},
   "outputs": [],
   "source": [
    "#data visualization"
   ]
  },
  {
   "cell_type": "code",
   "execution_count": 28,
   "id": "60be4dbf",
   "metadata": {},
   "outputs": [
    {
     "data": {
      "image/png": "[encoded data removed]",
      "text/plain": [
       "<Figure size 432x288 with 1 Axes>"
      ]
     },
     "metadata": {
      "needs_background": "light"
     },
     "output_type": "display_data"
    }
   ],
   "source": [
    "#visualize top products\n",
    "top_products = df.groupby('Product Name')['Sales'].sum().sort_values(ascending=False).head(10)\n",
    "top_products.plot(kind='barh', title='Top 10 Products by Sales')\n",
    "plt.show()\n"
   ]
  },
  {
   "cell_type": "code",
   "execution_count": null,
   "id": "ebd496e9",
   "metadata": {
    "scrolled": true
   },
   "outputs": [],
   "source": []
  },
  {
   "cell_type": "code",
   "execution_count": 29,
   "id": "c9e41235",
   "metadata": {},
   "outputs": [
    {
     "data": {
      "image/png": "[encoded data removed]",
      "text/plain": [
       "<Figure size 720x288 with 1 Axes>"
      ]
     },
     "metadata": {
      "needs_background": "light"
     },
     "output_type": "display_data"
    },
    {
     "data": {
      "image/png": "[encoded data removed]",
      "text/plain": [
       "<Figure size 720x288 with 1 Axes>"
      ]
     },
     "metadata": {
      "needs_background": "light"
     },
     "output_type": "display_data"
    },
    {
     "data": {
      "image/png": "[encoded data removed]",
      "text/plain": [
       "<Figure size 720x288 with 1 Axes>"
      ]
     },
     "metadata": {
      "needs_background": "light"
     },
     "output_type": "display_data"
    },
    {
     "data": {
      "image/png": "[encoded data removed]",
      "text/plain": [
       "<Figure size 720x288 with 1 Axes>"
      ]
     },
     "metadata": {
      "needs_background": "light"
     },
     "output_type": "display_data"
    },
    {
     "data": {
      "image/png": "[encoded data removed]",
      "text/plain": [
       "<Figure size 720x288 with 1 Axes>"
      ]
     },
     "metadata": {
      "needs_background": "light"
     },
     "output_type": "display_data"
    }
   ],
   "source": [
    "#visualize the categorical features of the dataset\n",
    "categorical_features = ['Category', 'Sub-Category', 'Segment', 'Region', 'Ship Mode']\n",
    "\n",
    "for col in categorical_features:\n",
    "    plt.figure(figsize=(10,4))\n",
    "    sns.countplot(data=df, x=col, order=df[col].value_counts().index, palette='pastel')\n",
    "    plt.title(f'Count of {col}')\n",
    "    plt.xticks(rotation=45)\n",
    "    plt.tight_layout()\n",
    "    plt.show()\n"
   ]
  },
  {
   "cell_type": "code",
   "execution_count": 30,
   "id": "37d4baab",
   "metadata": {},
   "outputs": [
    {
     "data": {
      "image/png": "[encoded data removed]",
      "text/plain": [
       "<Figure size 432x288 with 1 Axes>"
      ]
     },
     "metadata": {
      "needs_background": "light"
     },
     "output_type": "display_data"
    }
   ],
   "source": [
    "#visualize each category and the profit it made\n",
    "category_profit = df.groupby('Category')['Profit'].sum().sort_values()\n",
    "category_profit.plot(kind='barh', color='lightcoral')\n",
    "plt.title('Profit by Category')\n",
    "plt.xlabel('Total Profit')\n",
    "plt.tight_layout()\n",
    "plt.show()"
   ]
  },
  {
   "cell_type": "code",
   "execution_count": 31,
   "id": "75d32286",
   "metadata": {},
   "outputs": [
    {
     "data": {
      "image/png": "[encoded data removed]",
      "text/plain": [
       "<Figure size 432x288 with 1 Axes>"
      ]
     },
     "metadata": {
      "needs_background": "light"
     },
     "output_type": "display_data"
    }
   ],
   "source": [
    "#visualize the sales versus profit made by each category\n",
    "sns.scatterplot(x='Sales', y='Profit', data=df, hue='Category')\n",
    "plt.title('Sales vs Profit by Category')\n",
    "plt.tight_layout()\n",
    "plt.show()\n",
    "\n"
   ]
  },
  {
   "cell_type": "code",
   "execution_count": 32,
   "id": "868f79da",
   "metadata": {},
   "outputs": [
    {
     "data": {
      "image/png": "[encoded data removed]",
      "text/plain": [
       "<Figure size 864x432 with 1 Axes>"
      ]
     },
     "metadata": {
      "needs_background": "light"
     },
     "output_type": "display_data"
    }
   ],
   "source": [
    "#visualize sale in top 15 state\n",
    "sales_stuation = df.groupby('State')['Sales'].sum().reset_index()\n",
    "top15 = sales_stuation.sort_values('Sales', ascending=False).head(15)\n",
    "\n",
    "plt.figure(figsize=(12,6))\n",
    "sns.barplot(x='State', y='Sales', data=top15, palette='viridis')\n",
    "plt.xticks(rotation=45, ha='right')  \n",
    "plt.title('sales_stuation')\n",
    "plt.tight_layout()\n",
    "plt.savefig(\"sales_stuation.png\")\n",
    "plt.show()\n",
    "\n"
   ]
  },
  {
   "cell_type": "code",
   "execution_count": 33,
   "id": "1604c846",
   "metadata": {},
   "outputs": [
    {
     "data": {
      "image/png": "[encoded data removed]",
      "text/plain": [
       "<Figure size 432x288 with 1 Axes>"
      ]
     },
     "metadata": {
      "needs_background": "light"
     },
     "output_type": "display_data"
    }
   ],
   "source": [
    "#visulize the each year's sales\n",
    "# Group by year\n",
    "yearly_sales = df.groupby('Order_Year')['Sales'].sum()\n",
    "\n",
    "# Plot\n",
    "yearly_sales.plot(kind='bar', color='orange')\n",
    "plt.title('Yearly Sales Trend')\n",
    "plt.xlabel('Year')\n",
    "plt.ylabel('Total Sales ($)')\n",
    "plt.tight_layout()\n",
    "plt.show()"
   ]
  },
  {
   "cell_type": "code",
   "execution_count": 34,
   "id": "78b92beb",
   "metadata": {},
   "outputs": [
    {
     "data": {
      "image/png": "[encoded data removed]",
      "text/plain": [
       "<Figure size 432x288 with 1 Axes>"
      ]
     },
     "metadata": {
      "needs_background": "light"
     },
     "output_type": "display_data"
    },
    {
     "data": {
      "image/png": "[encoded data removed]",
      "text/plain": [
       "<Figure size 432x288 with 1 Axes>"
      ]
     },
     "metadata": {
      "needs_background": "light"
     },
     "output_type": "display_data"
    },
    {
     "data": {
      "image/png": "[encoded data removed]",
      "text/plain": [
       "<Figure size 864x432 with 1 Axes>"
      ]
     },
     "metadata": {
      "needs_background": "light"
     },
     "output_type": "display_data"
    },
    {
     "data": {
      "image/png": "[encoded data removed]",
      "text/plain": [
       "<Figure size 432x288 with 2 Axes>"
      ]
     },
     "metadata": {
      "needs_background": "light"
     },
     "output_type": "display_data"
    }
   ],
   "source": [
    "# Bar chart: Sales by Category\n",
    "category_sales.plot(kind='bar', color='skyblue')\n",
    "plt.title('Total Sales by Category')\n",
    "plt.ylabel('Sales')\n",
    "plt.xlabel('Category')\n",
    "plt.show()\n",
    "\n",
    "# Bar chart: Sales by Region\n",
    "region_sales.plot(kind='bar', color='coral')\n",
    "plt.title('Total Sales by Region')\n",
    "plt.ylabel('Sales')\n",
    "plt.xlabel('Region')\n",
    "plt.show()\n",
    "\n",
    "# Line chart: Monthly Sales Trend\n",
    "monthly_sales.plot(figsize=(12,6), color='green')\n",
    "plt.title('Monthly Sales Trend')\n",
    "plt.ylabel('Sales')\n",
    "plt.xlabel('Date')\n",
    "plt.show()\n",
    "\n",
    "# Heatmap: Sales by Category and Region\n",
    "pivot = df.pivot_table(values='Sales', index='Category', columns='Region', aggfunc='sum')\n",
    "sns.heatmap(pivot, annot=True, fmt=\".0f\", cmap='YlGnBu')\n",
    "plt.title('Sales Heatmap (Category vs Region)')\n",
    "plt.show()\n",
    "\n"
   ]
  },
  {
   "cell_type": "code",
   "execution_count": 35,
   "id": "0f497995",
   "metadata": {},
   "outputs": [],
   "source": [
    "#visualization dashboards"
   ]
  },
  {
   "cell_type": "code",
   "execution_count": 53,
   "id": "7d0e4629",
   "metadata": {},
   "outputs": [
    {
     "name": "stdout",
     "output_type": "stream",
     "text": [
      "total sales: 2297200\n",
      "total profit: $ 286397.02\n",
      "profit margin: 8.02\n",
      "average delivery time: 3.96\n"
     ]
    }
   ],
   "source": [
    "#General visualization\n",
    "\n",
    "#Home\n",
    "#analysis on fact_sales data frame( table)\n",
    "print(\"total sales:\", int(fact_sales['Sales'].sum()) )\n",
    "print(\"total profit: $\", round(fact_sales['Profit'].sum(),2) ) \n",
    "print(\"profit margin:\", round( fact_sales['Sales'].sum()/fact_sales['Profit'].sum(),2) )\n",
    "print(\"average delivery time:\", round( fact_sales['Delivery Delay'].sum()/len(fact_sales['Delivery Delay']),2) )\n",
    "\n",
    "#annual sales trend\n",
    "\n",
    "\n",
    "#sales by states\n"
   ]
  },
  {
   "cell_type": "code",
   "execution_count": null,
   "id": "438e3f96",
   "metadata": {},
   "outputs": [],
   "source": [
    "#sales"
   ]
  },
  {
   "cell_type": "code",
   "execution_count": null,
   "id": "7b8f2fe4",
   "metadata": {},
   "outputs": [],
   "source": [
    "#profit"
   ]
  },
  {
   "cell_type": "code",
   "execution_count": null,
   "id": "69d284ed",
   "metadata": {},
   "outputs": [],
   "source": [
    "#customer"
   ]
  },
  {
   "cell_type": "code",
   "execution_count": null,
   "id": "762f4c11",
   "metadata": {},
   "outputs": [],
   "source": [
    "#product"
   ]
  },
  {
   "cell_type": "code",
   "execution_count": null,
   "id": "ad7769da",
   "metadata": {},
   "outputs": [],
   "source": [
    "#shipping"
   ]
  },
  {
   "cell_type": "code",
   "execution_count": null,
   "id": "0b205e8b",
   "metadata": {},
   "outputs": [],
   "source": [
    "#time series"
   ]
  }
 ],
 "metadata": {
  "kernelspec": {
   "display_name": "Python 3 (ipykernel)",
   "language": "python",
   "name": "python3"
  },
  "language_info": {
   "codemirror_mode": {
    "name": "ipython",
    "version": 3
   },
   "file_extension": ".py",
   "mimetype": "text/x-python",
   "name": "python",
   "nbconvert_exporter": "python",
   "pygments_lexer": "ipython3",
   "version": "3.9.7"
  }
 },
 "nbformat": 4,
 "nbformat_minor": 5
}
